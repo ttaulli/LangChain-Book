{
 "cells": [
  {
   "cell_type": "code",
   "execution_count": null,
   "id": "93b52280",
   "metadata": {},
   "outputs": [],
   "source": [
    "import openai\n",
    "import os \n",
    "from langchain.chat_models import ChatOpenAI\n",
    "from langchain.llms import OpenAI"
   ]
  },
  {
   "cell_type": "code",
   "execution_count": null,
   "id": "6a3c908f",
   "metadata": {},
   "outputs": [],
   "source": [
    "os.environ['OPENAI_API_KEY'] = ''"
   ]
  },
  {
   "cell_type": "code",
   "execution_count": null,
   "id": "62a154fc",
   "metadata": {},
   "outputs": [],
   "source": [
    "openai.api_key = os.getenv('OPENAI_API_KEY')"
   ]
  },
  {
   "cell_type": "code",
   "execution_count": null,
   "id": "d0d9c016",
   "metadata": {},
   "outputs": [],
   "source": [
    "def describe(topic):\n",
    "    prompt = f\"Describe this topic: {topic}\"\n",
    "    messages = [{\"role\": \"user\", \"content\": prompt}]  \n",
    "    reply = openai.ChatCompletion.create(\n",
    "        model=\"gpt-3.5-turbo\",\n",
    "        messages=messages\n",
    "    )\n",
    "    return reply.choices[0].message[\"content\"]\n",
    "\n",
    "topic = input(\"Please enter a topic for a prompt: \")\n",
    "openai_reply = describe(topic)\n",
    "print(\"------------\")\n",
    "print(f\"Answer from OpenAI: {openai_reply}\")\n",
    "\n"
   ]
  },
  {
   "cell_type": "code",
   "execution_count": null,
   "id": "7be722d5",
   "metadata": {},
   "outputs": [],
   "source": []
  }
 ],
 "metadata": {
  "kernelspec": {
   "display_name": "Python 3 (ipykernel)",
   "language": "python",
   "name": "python3"
  },
  "language_info": {
   "codemirror_mode": {
    "name": "ipython",
    "version": 3
   },
   "file_extension": ".py",
   "mimetype": "text/x-python",
   "name": "python",
   "nbconvert_exporter": "python",
   "pygments_lexer": "ipython3",
   "version": "3.11.3"
  }
 },
 "nbformat": 4,
 "nbformat_minor": 5
}
