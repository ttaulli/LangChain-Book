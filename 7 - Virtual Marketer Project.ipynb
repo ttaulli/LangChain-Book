{
 "cells": [
  {
   "cell_type": "markdown",
   "id": "3b31df2c",
   "metadata": {},
   "source": [
    "# Virtual Marketer Project"
   ]
  },
  {
   "cell_type": "code",
   "execution_count": null,
   "id": "44760063",
   "metadata": {},
   "outputs": [],
   "source": [
    "import openai\n",
    "import os \n",
    "from langchain.chat_models import ChatOpenAI\n",
    "from langchain.llms import OpenAI\n",
    "from langchain import PromptTemplate\n",
    "from langchain.prompts import ChatPromptTemplate,SystemMessagePromptTemplate,AIMessagePromptTemplate,HumanMessagePromptTemplate\n",
    "from langchain.schema import AIMessage,HumanMessage,SystemMessage"
   ]
  },
  {
   "cell_type": "code",
   "execution_count": null,
   "id": "7f7af5f4",
   "metadata": {},
   "outputs": [],
   "source": [
    "os.environ['OPENAI_API_KEY'] = ''"
   ]
  },
  {
   "cell_type": "code",
   "execution_count": null,
   "id": "10372ec4",
   "metadata": {},
   "outputs": [],
   "source": [
    "openai.api_key = os.getenv('OPENAI_API_KEY')"
   ]
  },
  {
   "cell_type": "code",
   "execution_count": null,
   "id": "4a46e3bd",
   "metadata": {},
   "outputs": [],
   "source": [
    "chat_llm = ChatOpenAI(openai_api_key=openai.api_key,model_name=\"gpt-3.5-turbo\")"
   ]
  },
  {
   "cell_type": "code",
   "execution_count": null,
   "id": "b754c88c",
   "metadata": {},
   "outputs": [],
   "source": [
    "\n",
    "def get_answer(content_type, topic, idea): \n",
    "    system_template = 'You are an expert in marketing' \n",
    "    system_message = SystemMessagePromptTemplate.from_template(system_template)\n",
    "\n",
    "    human_template = \"{idea} {topic} for a {content_type}\"\n",
    "    human_message = HumanMessagePromptTemplate.from_template(human_template)\n",
    "\n",
    "    chat_prompt = ChatPromptTemplate.from_messages([system_message,human_message])\n",
    "    prompt = chat_prompt.format_prompt(idea=idea,topic=topic,content_type=content_type).to_messages()\n",
    "    reply = chat_llm(prompt)\n",
    "\n",
    "    return reply.content\n",
    "\n",
    "def create_content(content_type, idea, tone): \n",
    "    system_template = 'You are an expert in marketing' \n",
    "    system_message = SystemMessagePromptTemplate.from_template(system_template)\n",
    "\n",
    "    human_template = \"Write a {content_type} about: {idea}. Write it in a {tone} tone.\"\n",
    "    human_message = HumanMessagePromptTemplate.from_template(human_template)\n",
    "\n",
    "    chat_prompt = ChatPromptTemplate.from_messages([system_message,human_message])\n",
    "    prompt = chat_prompt.format_prompt(content_type=content_type, idea=idea,tone=tone).to_messages()\n",
    "    reply = chat_llm(prompt)\n",
    "\n",
    "    return reply.content\n",
    "\n",
    "def marketing_magic(content_type): \n",
    "    print(f\"Let's now brainstorm an idea for your {content_type}.\") \n",
    "    topic = input(\"What topic do you want to focus on?\") \n",
    "    idea = \"Come up a one-sentence ideas about \" \n",
    "    openai_reply = get_answer(content_type, topic, idea) \n",
    "    print(\"------------\") \n",
    "    print(f\"Idea for your {content_type}:\\n {openai_reply}\")\n",
    "    \n",
    "    while True:\n",
    "        response = input(\"Does this look good? (Yes/No): \").lower().strip()\n",
    "    \n",
    "        if response == 'yes':\n",
    "            tone = input(f\"What should the tone be for the {content_type}?\") \n",
    "            content = create_content(content_type, openai_reply, tone) \n",
    "    \n",
    "            print(\"------------\") \n",
    "            print(f\"Your {content_type}:\\n {content}\")\n",
    "            break\n",
    "        \n",
    "        else:\n",
    "            print(\"Let's try another idea.\")\n",
    "            openai_reply = get_answer(content_type, topic, prompt)\n",
    "            print(f\"Idea for your {content_type}:\\n {openai_reply}\")\n",
    "\n",
    "while True: \n",
    "    print(\"Welcome to the Virtual Marketer Project\") \n",
    "    print(\"1. Headline\") \n",
    "    print(\"2. Tweet\") \n",
    "    print(\"3. Blog\") \n",
    "    print(\"4. Exit\") \n",
    "    print(\"-------\")\n",
    "\n",
    "    content_type = input(\"Enter your choice (1/2/3/4): \")\n",
    "    if content_type == \"1\":\n",
    "        marketing_magic(\"headline\")\n",
    "    elif content_type == \"2\":\n",
    "        marketing_magic(\"tweet\")\n",
    "    elif content_type == \"3\":\n",
    "        marketing_magic(\"blog\")\n",
    "    elif content_type == \"4\":\n",
    "        print(\"Bye!\")\n",
    "        break\n",
    "    else:\n",
    "        print(\"Invalid choice. Please try again.\")\n"
   ]
  },
  {
   "cell_type": "code",
   "execution_count": null,
   "id": "ec8ff6bf",
   "metadata": {},
   "outputs": [],
   "source": []
  },
  {
   "cell_type": "code",
   "execution_count": null,
   "id": "8b14aade",
   "metadata": {},
   "outputs": [],
   "source": []
  }
 ],
 "metadata": {
  "kernelspec": {
   "display_name": "Python 3 (ipykernel)",
   "language": "python",
   "name": "python3"
  },
  "language_info": {
   "codemirror_mode": {
    "name": "ipython",
    "version": 3
   },
   "file_extension": ".py",
   "mimetype": "text/x-python",
   "name": "python",
   "nbconvert_exporter": "python",
   "pygments_lexer": "ipython3",
   "version": "3.11.3"
  }
 },
 "nbformat": 4,
 "nbformat_minor": 5
}
