{
 "cells": [
  {
   "cell_type": "markdown",
   "id": "5112bc00",
   "metadata": {},
   "source": [
    "# Hello, LLM"
   ]
  },
  {
   "cell_type": "code",
   "execution_count": 1,
   "id": "500acbf4",
   "metadata": {},
   "outputs": [],
   "source": [
    "# !pip install openai"
   ]
  },
  {
   "cell_type": "code",
   "execution_count": 3,
   "id": "b6ca23ec",
   "metadata": {},
   "outputs": [],
   "source": [
    "import openai\n",
    "import os "
   ]
  },
  {
   "cell_type": "code",
   "execution_count": 4,
   "id": "ba7d0304",
   "metadata": {},
   "outputs": [],
   "source": [
    "os.environ['OPENAI_API_KEY'] = ''"
   ]
  },
  {
   "cell_type": "code",
   "execution_count": 5,
   "id": "6b434998",
   "metadata": {},
   "outputs": [],
   "source": [
    "openai.api_key = os.getenv('OPENAI_API_KEY')"
   ]
  },
  {
   "cell_type": "code",
   "execution_count": 4,
   "id": "95aa06bf",
   "metadata": {},
   "outputs": [
    {
     "name": "stdout",
     "output_type": "stream",
     "text": [
      "What do you want to ask the LLM? What is artificial intelligence?  Limit to one paragraph\n",
      "------------------\n",
      "OpenAI reply: {\n",
      "  \"id\": \"chatcmpl-7r6irMZhh9FEkl8IUwMfhOgafaQqA\",\n",
      "  \"object\": \"chat.completion\",\n",
      "  \"created\": 1692891581,\n",
      "  \"model\": \"gpt-3.5-turbo-0613\",\n",
      "  \"choices\": [\n",
      "    {\n",
      "      \"index\": 0,\n",
      "      \"message\": {\n",
      "        \"role\": \"assistant\",\n",
      "        \"content\": \"Artificial intelligence refers to the development of computer systems that have the ability to perform tasks that typically require human intelligence, such as learning, problem-solving, speech recognition, and decision-making. It involves the creation of algorithms and models that enable machines to analyze and interpret data, make predictions, and adapt to changing circumstances. AI can be categorized into narrow AI, which is focused on a specific task, and general AI, which aims to replicate human-level intelligence across various domains. The field of AI continues to\"\n",
      "      },\n",
      "      \"finish_reason\": \"length\"\n",
      "    }\n",
      "  ],\n",
      "  \"usage\": {\n",
      "    \"prompt_tokens\": 27,\n",
      "    \"completion_tokens\": 100,\n",
      "    \"total_tokens\": 127\n",
      "  }\n",
      "}\n"
     ]
    }
   ],
   "source": [
    "def openai_reply (question): \n",
    "    reply = openai.ChatCompletion.create(\n",
    "        model=\"gpt-3.5-turbo\",\n",
    "        max_tokens =100,\n",
    "        messages=[\n",
    "            {\n",
    "                \"role\": \"system\",\n",
    "                \"content\": \"You are a helpful assistant.\"\n",
    "            },\n",
    "            {\n",
    "                \"role\": \"user\",\n",
    "                \"content\": question,\n",
    "            }\n",
    "        ]\n",
    "    )    \n",
    "    \n",
    "    return reply\n",
    "    \n",
    "question = input(\"What do you want to ask the LLM? \")\n",
    "openai_reply = openai_reply(question)\n",
    "print(\"------------------\")\n",
    "print(f\"OpenAI reply: {openai_reply}\")\n"
   ]
  },
  {
   "cell_type": "code",
   "execution_count": 1,
   "id": "4467c129",
   "metadata": {},
   "outputs": [],
   "source": [
    "# !pip install langchain"
   ]
  },
  {
   "cell_type": "code",
   "execution_count": 9,
   "id": "477fd2a5",
   "metadata": {},
   "outputs": [],
   "source": [
    "from langchain.chat_models import ChatOpenAI"
   ]
  },
  {
   "cell_type": "code",
   "execution_count": 10,
   "id": "9b82b04f",
   "metadata": {},
   "outputs": [],
   "source": [
    "llm = ChatOpenAI(openai_api_key=openai.api_key, model_name=\"gpt-3.5-turbo\", max_tokens=100)"
   ]
  },
  {
   "cell_type": "code",
   "execution_count": 11,
   "id": "8968afb3",
   "metadata": {},
   "outputs": [],
   "source": [
    "from langchain.schema import AIMessage, HumanMessage,SystemMessage"
   ]
  },
  {
   "cell_type": "code",
   "execution_count": 13,
   "id": "fa5c6e25",
   "metadata": {},
   "outputs": [
    {
     "name": "stdout",
     "output_type": "stream",
     "text": [
      "What do you want to ask the LLM? what is artificial intelligence.  Limit this to one paragraph\n",
      "content='Artificial intelligence (AI) refers to the development of computer systems that are capable of performing tasks that typically require human intelligence. These systems are designed to analyze data, learn from patterns, and make decisions or predictions based on the information provided. AI technologies encompass various subfields, such as machine learning, natural language processing, computer vision, and robotics. The ultimate goal of AI is to create intelligent machines that can simulate human cognitive abilities, enabling them to understand, reason, and interact with the world in' additional_kwargs={} example=False\n",
      "------------------\n",
      "OpenAI reply: Artificial intelligence (AI) refers to the development of computer systems that are capable of performing tasks that typically require human intelligence. These systems are designed to analyze data, learn from patterns, and make decisions or predictions based on the information provided. AI technologies encompass various subfields, such as machine learning, natural language processing, computer vision, and robotics. The ultimate goal of AI is to create intelligent machines that can simulate human cognitive abilities, enabling them to understand, reason, and interact with the world in\n"
     ]
    }
   ],
   "source": [
    "def langchain_reply (question): \n",
    "    \n",
    "    output = llm([\n",
    "        SystemMessage(content='You are a helpful assistant.'),\n",
    "        HumanMessage(content=question)])\n",
    "    \n",
    "    return output.content\n",
    "    \n",
    "question = input(\"What do you want to ask the LLM? \")\n",
    "reply = langchain_reply(question)\n",
    "print(\"------------------\")\n",
    "print(f\"OpenAI reply: {reply}\")\n"
   ]
  },
  {
   "cell_type": "code",
   "execution_count": 14,
   "id": "53fcf43a",
   "metadata": {},
   "outputs": [],
   "source": [
    "reply = llm.generate([\n",
    "[SystemMessage(content='You are an AI expert.'),\n",
    "HumanMessage(content='What is generative AI? Limit to one paragraph.')],\n",
    "[SystemMessage(content='You are a social media expert.'),\n",
    "HumanMessage(content='Create a tweet about generative ai.')]\n",
    "])"
   ]
  },
  {
   "cell_type": "code",
   "execution_count": 17,
   "id": "84b88d28",
   "metadata": {
    "scrolled": true
   },
   "outputs": [
    {
     "data": {
      "text/plain": [
       "[[ChatGeneration(text='Generative AI refers to a subset of artificial intelligence techniques that aim to create or generate new data, such as images, text, or audio, that have similar characteristics to the training data it was trained on. Unlike other AI approaches that primarily focus on recognizing or classifying existing data, generative AI models learn the underlying patterns and structures of the training data in order to generate new and original content. This technology has various applications, including content creation, data augmentation, and simulation, and has been used', generation_info={'finish_reason': 'length'}, message=AIMessage(content='Generative AI refers to a subset of artificial intelligence techniques that aim to create or generate new data, such as images, text, or audio, that have similar characteristics to the training data it was trained on. Unlike other AI approaches that primarily focus on recognizing or classifying existing data, generative AI models learn the underlying patterns and structures of the training data in order to generate new and original content. This technology has various applications, including content creation, data augmentation, and simulation, and has been used', additional_kwargs={}, example=False))],\n",
       " [ChatGeneration(text='\"Get ready to be amazed by the power of generative AI! 🌟 This groundbreaking technology is pushing boundaries and creating mind-blowing art, music, and even writing. The possibilities are endless! 🎨🎶✍️ #GenerativeAI #ArtificialIntelligence #Innovation\"', generation_info={'finish_reason': 'stop'}, message=AIMessage(content='\"Get ready to be amazed by the power of generative AI! 🌟 This groundbreaking technology is pushing boundaries and creating mind-blowing art, music, and even writing. The possibilities are endless! 🎨🎶✍️ #GenerativeAI #ArtificialIntelligence #Innovation\"', additional_kwargs={}, example=False))]]"
      ]
     },
     "execution_count": 17,
     "metadata": {},
     "output_type": "execute_result"
    }
   ],
   "source": [
    "reply.generations"
   ]
  },
  {
   "cell_type": "code",
   "execution_count": 22,
   "id": "d488cad0",
   "metadata": {},
   "outputs": [
    {
     "data": {
      "text/plain": [
       "'Generative AI refers to a subset of artificial intelligence techniques that aim to create or generate new data, such as images, text, or audio, that have similar characteristics to the training data it was trained on. Unlike other AI approaches that primarily focus on recognizing or classifying existing data, generative AI models learn the underlying patterns and structures of the training data in order to generate new and original content. This technology has various applications, including content creation, data augmentation, and simulation, and has been used'"
      ]
     },
     "execution_count": 22,
     "metadata": {},
     "output_type": "execute_result"
    }
   ],
   "source": [
    "reply.generations[0][0].text\n",
    "\n"
   ]
  },
  {
   "cell_type": "code",
   "execution_count": 23,
   "id": "cc0bcca7",
   "metadata": {},
   "outputs": [
    {
     "data": {
      "text/plain": [
       "'\"Get ready to be amazed by the power of generative AI! 🌟 This groundbreaking technology is pushing boundaries and creating mind-blowing art, music, and even writing. The possibilities are endless! 🎨🎶✍️ #GenerativeAI #ArtificialIntelligence #Innovation\"'"
      ]
     },
     "execution_count": 23,
     "metadata": {},
     "output_type": "execute_result"
    }
   ],
   "source": [
    "reply.generations[1][0].text"
   ]
  },
  {
   "cell_type": "code",
   "execution_count": 25,
   "id": "79860ee7",
   "metadata": {},
   "outputs": [],
   "source": [
    "reply = llm.generate([\n",
    "[SystemMessage(content='You are a  physicist.'),\n",
    "HumanMessage(content='Definite quantum mechanics in 1 sentence.')],\n",
    "[SystemMessage(content='You are a helpful assistant.'),\n",
    "HumanMessage(content='Make this definition so a 5 year old can understand it.')]\n",
    "])\n"
   ]
  },
  {
   "cell_type": "code",
   "execution_count": 26,
   "id": "cf5ce1a6",
   "metadata": {},
   "outputs": [
    {
     "data": {
      "text/plain": [
       "'Quantum mechanics is a mathematical framework that describes the behavior of particles at the microscopic level, where properties like position and momentum can only be predicted probabilistically.'"
      ]
     },
     "execution_count": 26,
     "metadata": {},
     "output_type": "execute_result"
    }
   ],
   "source": [
    "reply.generations[0][0].text"
   ]
  },
  {
   "cell_type": "code",
   "execution_count": 27,
   "id": "e9d87255",
   "metadata": {},
   "outputs": [
    {
     "data": {
      "text/plain": [
       "\"Sure! Here's a definition for a 5-year-old:\\n\\nA definition is a way to explain what something means. It helps us understand what a word or idea is all about. It's like a special description that helps us know what something is.\""
      ]
     },
     "execution_count": 27,
     "metadata": {},
     "output_type": "execute_result"
    }
   ],
   "source": [
    "reply.generations[1][0].text"
   ]
  },
  {
   "cell_type": "code",
   "execution_count": null,
   "id": "46452c08",
   "metadata": {},
   "outputs": [],
   "source": []
  }
 ],
 "metadata": {
  "kernelspec": {
   "display_name": "Python 3 (ipykernel)",
   "language": "python",
   "name": "python3"
  },
  "language_info": {
   "codemirror_mode": {
    "name": "ipython",
    "version": 3
   },
   "file_extension": ".py",
   "mimetype": "text/x-python",
   "name": "python",
   "nbconvert_exporter": "python",
   "pygments_lexer": "ipython3",
   "version": "3.11.3"
  }
 },
 "nbformat": 4,
 "nbformat_minor": 5
}
