{
 "cells": [
  {
   "cell_type": "markdown",
   "id": "0b15ed9b",
   "metadata": {},
   "source": [
    "# PromptTemplate"
   ]
  },
  {
   "cell_type": "code",
   "execution_count": null,
   "id": "e4df9b35",
   "metadata": {},
   "outputs": [],
   "source": [
    "import openai\n",
    "import os \n",
    "from langchain.chat_models import ChatOpenAI\n",
    "from langchain.llms import OpenAI\n",
    "from langchain import PromptTemplate"
   ]
  },
  {
   "cell_type": "code",
   "execution_count": null,
   "id": "fd195df8",
   "metadata": {},
   "outputs": [],
   "source": [
    "os.environ['OPENAI_API_KEY'] = ''"
   ]
  },
  {
   "cell_type": "code",
   "execution_count": null,
   "id": "3e255064",
   "metadata": {},
   "outputs": [],
   "source": [
    "template = PromptTemplate(input_variables=[],template='What is generative ai?  Answer in one sentence.')"
   ]
  },
  {
   "cell_type": "code",
   "execution_count": null,
   "id": "bae4d7d1",
   "metadata": {},
   "outputs": [],
   "source": [
    "template"
   ]
  },
  {
   "cell_type": "code",
   "execution_count": null,
   "id": "3ee50cc2",
   "metadata": {},
   "outputs": [],
   "source": [
    "template.format()"
   ]
  },
  {
   "cell_type": "code",
   "execution_count": null,
   "id": "199248d6",
   "metadata": {},
   "outputs": [],
   "source": [
    "llm = OpenAI(openai_api_key=openai.api_key)\n",
    "\n",
    "print(llm(template.format()))"
   ]
  },
  {
   "cell_type": "code",
   "execution_count": null,
   "id": "0e84a09f",
   "metadata": {},
   "outputs": [],
   "source": [
    "def response(topic, tone):\n",
    "    \n",
    "    prompt = PromptTemplate(input_variables=[\"topic\", \"tone\"],\n",
    "    template=\"What is {topic}? The tone should be {tone}.\")\n",
    "\n",
    "    return llm(prompt.format(topic=topic, tone=tone))\n",
    "\n",
    "topic = input(\"Please enter a topic: \")\n",
    "tone = input(\"Please enter the tone: \")\n",
    "openai_reply = response(topic, tone)\n",
    "print(\"------------\")\n",
    "print(f\"Answer from OpenAI: {openai_reply}\")"
   ]
  },
  {
   "cell_type": "code",
   "execution_count": null,
   "id": "242ca309",
   "metadata": {},
   "outputs": [],
   "source": []
  }
 ],
 "metadata": {
  "kernelspec": {
   "display_name": "Python 3 (ipykernel)",
   "language": "python",
   "name": "python3"
  },
  "language_info": {
   "codemirror_mode": {
    "name": "ipython",
    "version": 3
   },
   "file_extension": ".py",
   "mimetype": "text/x-python",
   "name": "python",
   "nbconvert_exporter": "python",
   "pygments_lexer": "ipython3",
   "version": "3.11.3"
  }
 },
 "nbformat": 4,
 "nbformat_minor": 5
}
