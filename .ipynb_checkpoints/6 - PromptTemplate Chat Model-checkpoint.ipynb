{
 "cells": [
  {
   "cell_type": "markdown",
   "id": "7b0efd6c",
   "metadata": {},
   "source": [
    "# PromptTemplate Chat Model"
   ]
  },
  {
   "cell_type": "code",
   "execution_count": null,
   "id": "d2b13768",
   "metadata": {},
   "outputs": [],
   "source": [
    "import openai\n",
    "import os \n",
    "from langchain.chat_models import ChatOpenAI\n",
    "from langchain.llms import OpenAI\n",
    "from langchain import PromptTemplate\n",
    "from langchain.prompts import ChatPromptTemplate,SystemMessagePromptTemplate,AIMessagePromptTemplate,HumanMessagePromptTemplate\n",
    "from langchain.schema import AIMessage,HumanMessage,SystemMessage"
   ]
  },
  {
   "cell_type": "code",
   "execution_count": null,
   "id": "c3f037d1",
   "metadata": {},
   "outputs": [],
   "source": [
    "os.environ['OPENAI_API_KEY'] = ''"
   ]
  },
  {
   "cell_type": "code",
   "execution_count": null,
   "id": "48c2ad79",
   "metadata": {},
   "outputs": [],
   "source": [
    "openai.api_key = os.getenv('OPENAI_API_KEY')"
   ]
  },
  {
   "cell_type": "code",
   "execution_count": null,
   "id": "0c8ce6e8",
   "metadata": {},
   "outputs": [],
   "source": [
    "chat_llm = ChatOpenAI(openai_api_key=openai.api_key,model_name=\"gpt-3.5-turbo\")"
   ]
  },
  {
   "cell_type": "code",
   "execution_count": null,
   "id": "ad4dd126",
   "metadata": {},
   "outputs": [],
   "source": [
    "def get_answer(expertise, question):\n",
    "    \n",
    "    system_template = 'You are a professor that is an expert in {expertise}'\n",
    "    system_message = SystemMessagePromptTemplate.from_template(system_template)\n",
    "    \n",
    "    human_template = \"{question}\"\n",
    "    human_message = HumanMessagePromptTemplate.from_template(human_template)\n",
    "    \n",
    "    chat_prompt = ChatPromptTemplate.from_messages([system_message,human_message])\n",
    "    prompt = chat_prompt.format_prompt(expertise=expertise,question=question).to_messages()\n",
    "    reply = chat_llm(prompt)\n",
    "\n",
    "    return reply.content\n",
    "\n",
    "expertise = input(\"What expertise are you looking for from a professor?\")\n",
    "question = input(\"What is the question for the professor? \")\n",
    "openai_reply = get_answer(expertise, question)\n",
    "print(\"------------\")\n",
    "print(f\"Answer from OpenAI: {openai_reply}\")"
   ]
  },
  {
   "cell_type": "code",
   "execution_count": null,
   "id": "1a2e715a",
   "metadata": {},
   "outputs": [],
   "source": [
    "expertise = 'physics'\n",
    "system_template = 'You are a professor who is an expert in {expertise}'\n",
    "system_message = SystemMessagePromptTemplate.from_template(system_template)"
   ]
  },
  {
   "cell_type": "code",
   "execution_count": null,
   "id": "9fea2a85",
   "metadata": {},
   "outputs": [],
   "source": [
    "system_message.input_variables"
   ]
  },
  {
   "cell_type": "code",
   "execution_count": null,
   "id": "164557ef",
   "metadata": {},
   "outputs": [],
   "source": []
  }
 ],
 "metadata": {
  "kernelspec": {
   "display_name": "Python 3 (ipykernel)",
   "language": "python",
   "name": "python3"
  },
  "language_info": {
   "codemirror_mode": {
    "name": "ipython",
    "version": 3
   },
   "file_extension": ".py",
   "mimetype": "text/x-python",
   "name": "python",
   "nbconvert_exporter": "python",
   "pygments_lexer": "ipython3",
   "version": "3.11.3"
  }
 },
 "nbformat": 4,
 "nbformat_minor": 5
}
